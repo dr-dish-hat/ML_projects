{
 "cells": [
  {
   "cell_type": "markdown",
   "metadata": {},
   "source": [
    "# Q3 Using Scikit-Learn"
   ]
  },
  {
   "cell_type": "code",
   "execution_count": 31,
   "metadata": {},
   "outputs": [],
   "source": [
    "import numpy as np\n",
    "import pandas as pd\n",
    "import time\n",
    "import gc\n",
    "\n",
    "from sklearn.model_selection import cross_val_score, GridSearchCV, cross_validate, train_test_split\n",
    "from sklearn.metrics import accuracy_score, classification_report\n",
    "from sklearn.svm import SVC\n",
    "from sklearn.linear_model import LinearRegression\n",
    "from sklearn.neural_network import MLPClassifier\n",
    "from sklearn.ensemble import RandomForestClassifier\n",
    "from sklearn.preprocessing import StandardScaler, normalize\n",
    "from sklearn.decomposition import PCA\n",
    "# Import statements run before running other code cells"
   ]
  },
  {
   "cell_type": "markdown",
   "metadata": {},
   "source": [
    "# Classifier Setup"
   ]
  },
  {
   "cell_type": "code",
   "execution_count": 32,
   "metadata": {},
   "outputs": [],
   "source": [
    "# XXX\n",
    "# TODO: Read in all the data. Replace the 'xxx' with the path to the data set.\n",
    "# XXX\n",
    "\n",
    "# data = pd.read_csv('xxx')\n",
    "\n",
    "# Separate out the x_data and y_data.\n",
    "# x_data = data.loc[:, data.columns != \"y\"]\n",
    "# y_data = data.loc[:, \"y\"]\n",
    "\n",
    "# -------------------------------\n",
    "# ADD CODE HERE\n",
    "data = pd.read_csv('pulsar_stars.csv')\n",
    "x_data = data.loc[:, data.columns != \"y\"]\n",
    "y_data = data.loc[:, \"y\"]\n",
    "# ------------------------------"
   ]
  },
  {
   "cell_type": "code",
   "execution_count": 33,
   "metadata": {},
   "outputs": [],
   "source": [
    "# The random state to use while splitting the data.\n",
    "# random_state = 100\n",
    "\n",
    "# XXX\n",
    "# TODO: Split 70% of the data into training and 30% into test sets. Call them x_train, x_test, y_train and y_test.\n",
    "# Use the train_test_split method in sklearn with the parameter 'shuffle' set to true and the 'random_state' set to 100.\n",
    "# XXX\n",
    "\n",
    "# -------------------------------\n",
    "x_train, x_test, y_train, y_test = train_test_split(x_data, y_data, test_size = 0.3, random_state = 100, shuffle = True)\n",
    "# ------------------------------"
   ]
  },
  {
   "cell_type": "markdown",
   "metadata": {},
   "source": [
    "# Linear Regression "
   ]
  },
  {
   "cell_type": "code",
   "execution_count": 34,
   "metadata": {},
   "outputs": [
    {
     "data": {
      "text/plain": [
       "LinearRegression(copy_X=True, fit_intercept=True, n_jobs=None, normalize=False)"
      ]
     },
     "execution_count": 34,
     "metadata": {},
     "output_type": "execute_result"
    }
   ],
   "source": [
    "# XXX\n",
    "# TODO: Create a LinearRegression classifier and train it.\n",
    "# XXX\n",
    "\n",
    "# -------------------------------\n",
    "linreg = LinearRegression()\n",
    "linreg.fit(x_train, y_train)\n",
    "# -------------------------------"
   ]
  },
  {
   "cell_type": "code",
   "execution_count": 35,
   "metadata": {},
   "outputs": [
    {
     "name": "stdout",
     "output_type": "stream",
     "text": [
      "0.9703065134099617\n"
     ]
    }
   ],
   "source": [
    "# XXX\n",
    "# TODO: Test its accuracy (on the training set) using the accuracy_score method.\n",
    "# Note: Round the output values greater than or equal to 0.5 to 1 and those less than 0.5 to 0. You can use any method that satisfies the requriements.\n",
    "# XXX\n",
    "\n",
    "# -------------------------------\n",
    "y_predicted = np.around(linreg.predict(x_train))\n",
    "print(accuracy_score(y_train, y_predicted))\n",
    "# -------------------------------"
   ]
  },
  {
   "cell_type": "code",
   "execution_count": 36,
   "metadata": {},
   "outputs": [
    {
     "name": "stdout",
     "output_type": "stream",
     "text": [
      "0.9715083798882681\n"
     ]
    }
   ],
   "source": [
    "# XXX\n",
    "# TODO: Test its accuracy (on the testing set) using the accuracy_score method.\n",
    "# Note: Round the output values greater than or equal to 0.5 to 1 and those less than 0.5 to 0. You can use any method that satisfies the requriements.\n",
    "# XXX\n",
    "\n",
    "# ------------------------------\n",
    "y_predicted_test = np.around(linreg.predict(x_test))\n",
    "print(accuracy_score(y_test, y_predicted_test))\n",
    "# -------------------------------"
   ]
  },
  {
   "cell_type": "markdown",
   "metadata": {},
   "source": [
    "# Random Forest Classifier"
   ]
  },
  {
   "cell_type": "code",
   "execution_count": 37,
   "metadata": {},
   "outputs": [
    {
     "name": "stderr",
     "output_type": "stream",
     "text": [
      "c:\\python\\python37\\lib\\site-packages\\sklearn\\ensemble\\forest.py:245: FutureWarning: The default value of n_estimators will change from 10 in version 0.20 to 100 in 0.22.\n",
      "  \"10 in version 0.20 to 100 in 0.22.\", FutureWarning)\n"
     ]
    },
    {
     "data": {
      "text/plain": [
       "RandomForestClassifier(bootstrap=True, class_weight=None, criterion='gini',\n",
       "                       max_depth=2, max_features='auto', max_leaf_nodes=None,\n",
       "                       min_impurity_decrease=0.0, min_impurity_split=None,\n",
       "                       min_samples_leaf=1, min_samples_split=2,\n",
       "                       min_weight_fraction_leaf=0.0, n_estimators=10,\n",
       "                       n_jobs=None, oob_score=False, random_state=0, verbose=0,\n",
       "                       warm_start=False)"
      ]
     },
     "execution_count": 37,
     "metadata": {},
     "output_type": "execute_result"
    }
   ],
   "source": [
    "# XXX\n",
    "# TODO: Create a RandomForestClassifier and train it.\n",
    "# WARNING: Ignore \"FutureWarning: The default value of n_estimators will change from 10 in version 0.20 to 100 in 0.22.\"10 in version 0.20 to 100 in 0.22.\"\n",
    "# XXX\n",
    "\n",
    "# -------------------------------\n",
    "forest = RandomForestClassifier(max_depth = 2, random_state = 0)\n",
    "forest.fit(x_train, y_train)\n",
    "# -------------------------------"
   ]
  },
  {
   "cell_type": "code",
   "execution_count": 38,
   "metadata": {},
   "outputs": [
    {
     "name": "stdout",
     "output_type": "stream",
     "text": [
      "0.971823116219668\n"
     ]
    }
   ],
   "source": [
    "# XXX\n",
    "# TODO: Test its accuracy on the training set using the accuracy_score method.\n",
    "# XXX\n",
    "\n",
    "# -------------------------------\n",
    "# ADD CODE HERE\n",
    "y_train_predicted = forest.predict(x_train)\n",
    "y_train_predicted = np.around(y_train_predicted)\n",
    "print(accuracy_score(ytrain, y_train_predicted))\n",
    "# -------------------------------"
   ]
  },
  {
   "cell_type": "code",
   "execution_count": 39,
   "metadata": {},
   "outputs": [
    {
     "name": "stdout",
     "output_type": "stream",
     "text": [
      "0.9746741154562384\n"
     ]
    }
   ],
   "source": [
    "# XXX\n",
    "# TODO: Test its accuracy on the test set using the accuracy_score method.\n",
    "# XXX\n",
    "\n",
    "# -------------------------------\n",
    "# ADD CODE HERE\n",
    "\n",
    "y_test_predicted = forest.predict(x_test)\n",
    "\n",
    "y_test_predicted = np.around(y_test_predicted)\n",
    "print(accuracy_score(y_test, y_test_predicted))\n",
    "# -------------------------------"
   ]
  },
  {
   "cell_type": "markdown",
   "metadata": {},
   "source": [
    "## Feature Importance"
   ]
  },
  {
   "cell_type": "code",
   "execution_count": 40,
   "metadata": {},
   "outputs": [
    {
     "name": "stdout",
     "output_type": "stream",
     "text": [
      "[0.34729384 0.03715007 0.22167527 0.33015243 0.01288577 0.04705813\n",
      " 0.         0.00378449]\n"
     ]
    }
   ],
   "source": [
    "# XXX\n",
    "# TODO: Determine and print the feature importance as evaluated by the Random Forest Classifier.\n",
    "# XXX\n",
    "\n",
    "# -------------------------------\n",
    "# ADD CODE HERE\n",
    "\n",
    "imp = forest.feature_importances_\n",
    "print(imp)\n",
    "# -------------------------------"
   ]
  },
  {
   "cell_type": "code",
   "execution_count": 41,
   "metadata": {},
   "outputs": [
    {
     "name": "stdout",
     "output_type": "stream",
     "text": [
      "[6 7 4 1 5 2 3 0]\n"
     ]
    }
   ],
   "source": [
    "# XXX\n",
    "# TODO: Sort them in the descending order and print the feature numbers[0 to ...].\n",
    "#       Hint: There is a direct function available in sklearn to achieve this. Also checkout argsort() function in Python.\n",
    "# XXX\n",
    "\n",
    "# -------------------------------\n",
    "# ADD CODE HERE\n",
    "\n",
    "sort_features = np.argsort(imp)\n",
    "print(sort_features)\n",
    "# -------------------------------"
   ]
  },
  {
   "cell_type": "markdown",
   "metadata": {},
   "source": [
    "## Hyper-parameter Tuning"
   ]
  },
  {
   "cell_type": "code",
   "execution_count": 42,
   "metadata": {},
   "outputs": [],
   "source": [
    "# XXX\n",
    "# TODO: Tune the hyper-parameters 'n_estimators' and 'max_depth'.\n",
    "# XXX\n",
    "\n",
    "# -------------------------------\n",
    "# ADD CODE HERE\n",
    "\n",
    "forest = RandomForestClassifier()\n",
    "n_estimators = [int(x) for x in np.linspace(10, 500, num = 10)]\n",
    "max_depth = [int(x) for x in np.linspace(2, 20, num = 8)]\n",
    "\n",
    "params = {}\n",
    "\n",
    "params['n_estimators'] = n_estimators\n",
    "\n",
    "params['max_depth'] = max_depth\n",
    "\n",
    "grid_search_train = GridSearchCV(estimator = forest, param_grid = params, cv = 10, n_jobs = -1, verbose = 2)\n",
    "\n",
    "grid_search_test = GridSearchCV(estimator = forest, param_grid = params, cv = 10, n_jobs = -1, verbose = 2)\n",
    "# -------------------------------"
   ]
  },
  {
   "cell_type": "code",
   "execution_count": 43,
   "metadata": {},
   "outputs": [
    {
     "name": "stdout",
     "output_type": "stream",
     "text": [
      "Fitting 10 folds for each of 80 candidates, totalling 800 fits\n"
     ]
    },
    {
     "name": "stderr",
     "output_type": "stream",
     "text": [
      "[Parallel(n_jobs=-1)]: Using backend LokyBackend with 8 concurrent workers.\n",
      "[Parallel(n_jobs=-1)]: Done  25 tasks      | elapsed:    6.4s\n",
      "[Parallel(n_jobs=-1)]: Done 146 tasks      | elapsed:  1.0min\n",
      "[Parallel(n_jobs=-1)]: Done 349 tasks      | elapsed:  3.4min\n",
      "[Parallel(n_jobs=-1)]: Done 632 tasks      | elapsed:  8.3min\n",
      "[Parallel(n_jobs=-1)]: Done 800 out of 800 | elapsed: 11.8min finished\n"
     ]
    },
    {
     "name": "stdout",
     "output_type": "stream",
     "text": [
      "Fitting 10 folds for each of 80 candidates, totalling 800 fits\n"
     ]
    },
    {
     "name": "stderr",
     "output_type": "stream",
     "text": [
      "[Parallel(n_jobs=-1)]: Using backend LokyBackend with 8 concurrent workers.\n",
      "[Parallel(n_jobs=-1)]: Done  25 tasks      | elapsed:    5.0s\n",
      "[Parallel(n_jobs=-1)]: Done 146 tasks      | elapsed:   39.4s\n",
      "[Parallel(n_jobs=-1)]: Done 349 tasks      | elapsed:  2.1min\n",
      "[Parallel(n_jobs=-1)]: Done 632 tasks      | elapsed:  4.3min\n"
     ]
    },
    {
     "name": "stdout",
     "output_type": "stream",
     "text": [
      "{'max_depth': 17, 'n_estimators': 10}\n",
      "{'max_depth': 12, 'n_estimators': 10}\n"
     ]
    },
    {
     "name": "stderr",
     "output_type": "stream",
     "text": [
      "[Parallel(n_jobs=-1)]: Done 800 out of 800 | elapsed:  5.8min finished\n"
     ]
    }
   ],
   "source": [
    "# XXX\n",
    "# TODO: Print the best params, using .best_params_\n",
    "# XXX\n",
    "\n",
    "# -------------------------------\n",
    "# ADD CODE HERE\n",
    "\n",
    "grid_search_train.fit(x_train, y_train)\n",
    "grid_search_test.fit(x_test, y_test)\n",
    "\n",
    "print(grid_search_train.best_params_)\n",
    "print(grid_search_test.best_params_)\n",
    "# -------------------------------"
   ]
  },
  {
   "cell_type": "code",
   "execution_count": 44,
   "metadata": {},
   "outputs": [
    {
     "name": "stdout",
     "output_type": "stream",
     "text": [
      "0.979007024265645\n",
      "0.9837988826815642\n"
     ]
    }
   ],
   "source": [
    "# XXX\n",
    "# TODO: Print the best score, using .best_score_.\n",
    "# XXX\n",
    "\n",
    "# -------------------------------\n",
    "# ADD CODE HERE\n",
    "\n",
    "print(grid_search_train.best_score_)\n",
    "print(grid_search_test.best_score_)\n",
    "# -------------------------------"
   ]
  },
  {
   "cell_type": "markdown",
   "metadata": {},
   "source": [
    "# Support Vector Machine"
   ]
  },
  {
   "cell_type": "markdown",
   "metadata": {},
   "source": [
    "## Pre-process"
   ]
  },
  {
   "cell_type": "code",
   "execution_count": 45,
   "metadata": {},
   "outputs": [],
   "source": [
    "# XXX\n",
    "# TODO: Pre-process the data to standardize or normalize it, otherwise the grid search will take much longer.\n",
    "# Warning: Ignore \"FutureWarning: The default value of gamma will change from 'auto' to 'scale' in version 0.22 to account better for unscaled features. Set gamma explicitly to 'auto' or 'scale' to avoid this warning\"\n",
    "# XXX\n",
    "\n",
    "# -------------------------------\n",
    "norm_train = normalize(x_train, norm = 'l2')\n",
    "norm_test = normalize(x_test, norm = 'l2')\n",
    "# -------------------------------"
   ]
  },
  {
   "cell_type": "code",
   "execution_count": 46,
   "metadata": {},
   "outputs": [
    {
     "data": {
      "text/plain": [
       "SVC(C=1.0, cache_size=200, class_weight=None, coef0=0.0,\n",
       "    decision_function_shape='ovr', degree=3, gamma='auto', kernel='rbf',\n",
       "    max_iter=-1, probability=False, random_state=None, shrinking=True,\n",
       "    tol=0.001, verbose=False)"
      ]
     },
     "execution_count": 46,
     "metadata": {},
     "output_type": "execute_result"
    }
   ],
   "source": [
    "# XXX\n",
    "# TODO: Create a SVC classifier and train it.\n",
    "# XXX\n",
    "\n",
    "# -------------------------------\n",
    "SVM = SVC(gamma = 'auto')\n",
    "SVM.fit(norm_train, y_train)\n",
    "# -------------------------------"
   ]
  },
  {
   "cell_type": "code",
   "execution_count": 47,
   "metadata": {},
   "outputs": [
    {
     "name": "stdout",
     "output_type": "stream",
     "text": [
      "0.966794380587484\n"
     ]
    }
   ],
   "source": [
    "# XXX\n",
    "# TODO: Test its accuracy on the training set using the accuracy_score method.\n",
    "# XXX\n",
    "# WARNING: Ignore \"FutureWarning: The default value of gamma will change from 'auto' to 'scale' in version 0.22 to account better for unscaled features. Set gamma explicitly to 'auto' or 'scale' to avoid this warning.\"\"\n",
    "\n",
    "# -------------------------------\n",
    "y_predicted_svm = SVM.predict(norm_train)\n",
    "print(accuracy_score(y_predicted_svm, y_train))\n",
    "# -------------------------------"
   ]
  },
  {
   "cell_type": "code",
   "execution_count": 48,
   "metadata": {},
   "outputs": [
    {
     "name": "stdout",
     "output_type": "stream",
     "text": [
      "0.970391061452514\n"
     ]
    }
   ],
   "source": [
    "# XXX\n",
    "# TODO: Test its accuracy on the test set using the accuracy_score method.\n",
    "# XXX\n",
    "# WARNING: Ignore \"FutureWarning: The default value of gamma will change from 'auto' to 'scale' in version 0.22 to account better for unscaled features. Set gamma explicitly to 'auto' or 'scale' to avoid this warning.\"\"\n",
    "\n",
    "# -------------------------------\n",
    "y_predicted_svm_test = SVM.predict(norm_test)\n",
    "print(accuracy_score(y_predicted_svm_test, y_test))\n",
    "# -------------------------------"
   ]
  },
  {
   "cell_type": "markdown",
   "metadata": {},
   "source": [
    "## Hyper-parameter Tuning"
   ]
  },
  {
   "cell_type": "code",
   "execution_count": 49,
   "metadata": {},
   "outputs": [
    {
     "data": {
      "text/plain": [
       "GridSearchCV(cv=10, error_score='raise-deprecating',\n",
       "             estimator=SVC(C=1.0, cache_size=200, class_weight=None, coef0=0.0,\n",
       "                           decision_function_shape='ovr', degree=3,\n",
       "                           gamma='scale', kernel='rbf', max_iter=-1,\n",
       "                           probability=False, random_state=None, shrinking=True,\n",
       "                           tol=0.001, verbose=False),\n",
       "             iid='warn', n_jobs=None,\n",
       "             param_grid={'C': [0.0001, 0.1, 100], 'kernel': ('linear', 'rbf')},\n",
       "             pre_dispatch='2*n_jobs', refit=True, return_train_score=False,\n",
       "             scoring=None, verbose=0)"
      ]
     },
     "execution_count": 49,
     "metadata": {},
     "output_type": "execute_result"
    }
   ],
   "source": [
    "# XXX\n",
    "# TODO: Tune the hyper-parameters 'C' and 'kernel' (use rbf and linear).\n",
    "# XXX\n",
    "\n",
    "# -------------------------------\n",
    "SVM_tune_params = {'kernel':('linear', 'rbf'), 'C':[0.0001, 0.1, 100]}\n",
    "SVM_2 = GridSearchCV(SVC(gamma = 'scale'), SVM_tune_params, cv=10)\n",
    "SVM_2.fit(norm_train, y_train)\n",
    "# -------------------------------"
   ]
  },
  {
   "cell_type": "code",
   "execution_count": 50,
   "metadata": {},
   "outputs": [
    {
     "name": "stdout",
     "output_type": "stream",
     "text": [
      "0.9755747126436781\n"
     ]
    }
   ],
   "source": [
    "# XXX\n",
    "# TODO: Print the best score, using .best_score_.\n",
    "# XXX\n",
    "\n",
    "# -------------------------------\n",
    "print(SVM_2.best_score_)\n",
    "# -------------------------------"
   ]
  },
  {
   "cell_type": "code",
   "execution_count": 51,
   "metadata": {},
   "outputs": [
    {
     "name": "stdout",
     "output_type": "stream",
     "text": [
      "0.9764527458492975\n",
      "0.9772811918063314\n"
     ]
    }
   ],
   "source": [
    "# XXX\n",
    "# TODO: Get the training and test set accuracy values after hyperparameter tuning.\n",
    "# XXX\n",
    "\n",
    "# -------------------------------\n",
    "y_SVM_2_predicted = SVM_2.predict(norm_train)\n",
    "print(accuracy_score(y_SVM_2_predicted, ytrain))\n",
    "y_SVM_2_predicted_test = SVM_2.predict(norm_test)\n",
    "print(accuracy_score(y_SVM_2_predicted_test, ytest))\n",
    "# -------------------------------"
   ]
  },
  {
   "cell_type": "code",
   "execution_count": 52,
   "metadata": {},
   "outputs": [
    {
     "name": "stdout",
     "output_type": "stream",
     "text": [
      "0.9764527458492975\n"
     ]
    }
   ],
   "source": [
    "# XXX\n",
    "# TODO: Test its accuracy (on the training set) using the accuracy_score method.\n",
    "# Note: Round the output values greater than or equal to 0.5 to 1 and those less than 0.5 to 0. You can use any method that satisfies the requriements.\n",
    "# XXX\n",
    "\n",
    "# -------------------------------\n",
    "y_SVM_2_predicted_train = SVM_2.predict(norm_train)\n",
    "y_SVM_2_predicted_train = np.around(y_SVM_2_predicted_train)\n",
    "print(accuracy_score(y_SVM_2_predicted_train, ytrain))\n",
    "# -------------------------------"
   ]
  },
  {
   "cell_type": "code",
   "execution_count": 53,
   "metadata": {},
   "outputs": [
    {
     "name": "stdout",
     "output_type": "stream",
     "text": [
      "0.9772811918063314\n"
     ]
    }
   ],
   "source": [
    "# XXX\n",
    "# TODO: Test its accuracy (on the testing set) using the accuracy_score method.\n",
    "# Note: Round the output values greater than or equal to 0.5 to 1 and those less than 0.5 to 0. You can use any method that satisfies the requriements.\n",
    "# XXX\n",
    "\n",
    "# -------------------------------\n",
    "y_SVM_2_predicted_test = SVM_2.predict(norm_test)\n",
    "y_SVM_2_predicted_test = np.around(y_SVM_2_predicted_test)\n",
    "print(accuracy_score(y_SVM_2_predicted_test, ytest))\n",
    "# -------------------------------"
   ]
  },
  {
   "cell_type": "code",
   "execution_count": 54,
   "metadata": {},
   "outputs": [
    {
     "name": "stdout",
     "output_type": "stream",
     "text": [
      "[5 5 4 3 2 1]\n",
      "[0.90876437 0.90876437 0.96328225 0.96703384 0.97405811 0.97557471]\n",
      "[0.5560071  0.55412655 0.16473231 0.2818903  0.18555315 0.39558313]\n"
     ]
    }
   ],
   "source": [
    "# XXX\n",
    "# TODO: Calculate the rank test score, mean testing score and mean fit time for the \n",
    "# best combination of hyperparameter values that you obtained in Q3.2. The GridSearchCV \n",
    "# class holds a  ‘cv_results_’ dictionary that should help you report these metrics easily.\n",
    "# XXX\n",
    "\n",
    "# -------------------------------\n",
    "print(SVM_2.cv_results_['rank_test_score'])\n",
    "print(SVM_2.cv_results_['mean_test_score'])\n",
    "print(SVM_2.cv_results_['mean_fit_time'])\n",
    "# -------------------------------"
   ]
  },
  {
   "cell_type": "code",
   "execution_count": 55,
   "metadata": {},
   "outputs": [
    {
     "name": "stdout",
     "output_type": "stream",
     "text": [
      "[5 5 4 3 2 1]\n"
     ]
    }
   ],
   "source": [
    "# XXX\n",
    "# TODO: Print the rank test score for the best combination of hyperparameter values that you obtained in Q3.2. The \n",
    "# GridSearchCV class holds a  ‘cv_results_’ dictionary that should help you report these metrics easily.\n",
    "# XXX\n",
    "\n",
    "# -------------------------------\n",
    "print(SVM_2.cv_results_['rank_test_score'])\n",
    "# -------------------------------"
   ]
  },
  {
   "cell_type": "code",
   "execution_count": 56,
   "metadata": {},
   "outputs": [
    {
     "name": "stdout",
     "output_type": "stream",
     "text": [
      "[0.90876437 0.90876437 0.96328225 0.96703384 0.97405811 0.97557471]\n"
     ]
    }
   ],
   "source": [
    "# XXX\n",
    "# TODO: Print mean testing score for the best combination of hyperparameter values that you obtained in Q3.2. The \n",
    "# GridSearchCV class holds a  ‘cv_results_’ dictionary that should help you report these metrics easily.\n",
    "# XXX\n",
    "\n",
    "# -------------------------------\n",
    "print(SVM_2.cv_results_['mean_test_score'])\n",
    "# -------------------------------"
   ]
  },
  {
   "cell_type": "code",
   "execution_count": 57,
   "metadata": {},
   "outputs": [
    {
     "name": "stdout",
     "output_type": "stream",
     "text": [
      "[0.5560071  0.55412655 0.16473231 0.2818903  0.18555315 0.39558313]\n"
     ]
    }
   ],
   "source": [
    "# XXX\n",
    "# TODO: Print mean fit time for the best combination of hyperparameter values that you obtained in Q3.2. The \n",
    "# GridSearchCV class holds a  ‘cv_results_’ dictionary that should help you report these metrics easily.\n",
    "# XXX\n",
    "\n",
    "# -------------------------------\n",
    "print(SVM_2.cv_results_['mean_fit_time'])\n",
    "# -------------------------------"
   ]
  },
  {
   "cell_type": "markdown",
   "metadata": {},
   "source": [
    "# PCA"
   ]
  },
  {
   "cell_type": "code",
   "execution_count": 58,
   "metadata": {
    "scrolled": true
   },
   "outputs": [
    {
     "data": {
      "text/plain": [
       "PCA(copy=True, iterated_power='auto', n_components=8, random_state=None,\n",
       "    svd_solver='full', tol=0.0, whiten=False)"
      ]
     },
     "execution_count": 58,
     "metadata": {},
     "output_type": "execute_result"
    }
   ],
   "source": [
    "# XXX\n",
    "# TODO: Perform dimensionality reduction of the data using PCA.\n",
    "#       Set parameters n_component to 8 and svd_solver to 'full'. Keep other parameters at their default value.\n",
    "# XXX\n",
    "\n",
    "# -------------------------------\n",
    "Decomposition = PCA(n_components = 8, svd_solver = 'full')\n",
    "Decomposition.fit(x_train)\n",
    "# -------------------------------"
   ]
  },
  {
   "cell_type": "code",
   "execution_count": 59,
   "metadata": {},
   "outputs": [
    {
     "name": "stdout",
     "output_type": "stream",
     "text": [
      "[8.71054855e-01 7.80404050e-02 4.12747422e-02 6.15520409e-03\n",
      " 2.45425694e-03 9.78533643e-04 3.91429289e-05 2.85984066e-06]\n"
     ]
    }
   ],
   "source": [
    "# XXX\n",
    "# TODO: Print Percentage of variance explained by each of the selected components\n",
    "# XXX\n",
    "\n",
    "# -------------------------------\n",
    "print(Decomposition.explained_variance_ratio_)\n",
    "# -------------------------------"
   ]
  },
  {
   "cell_type": "code",
   "execution_count": 60,
   "metadata": {},
   "outputs": [
    {
     "name": "stdout",
     "output_type": "stream",
     "text": [
      "[11992.97512747  3589.74779466  2610.63625426  1008.15059028\n",
      "   636.59642313   401.9685368     80.39533321    21.73076915]\n"
     ]
    }
   ],
   "source": [
    "# XXX\n",
    "# TODO: The singular values corresponding to each of the selected components.\n",
    "# XXX\n",
    "\n",
    "# -------------------------------\n",
    "print(Decomposition.singular_values_)\n",
    "# -------------------------------"
   ]
  },
  {
   "cell_type": "code",
   "execution_count": null,
   "metadata": {},
   "outputs": [],
   "source": []
  },
  {
   "cell_type": "code",
   "execution_count": null,
   "metadata": {},
   "outputs": [],
   "source": []
  }
 ],
 "metadata": {
  "kernelspec": {
   "display_name": "Python 3",
   "language": "python",
   "name": "python3"
  },
  "language_info": {
   "codemirror_mode": {
    "name": "ipython",
    "version": 3
   },
   "file_extension": ".py",
   "mimetype": "text/x-python",
   "name": "python",
   "nbconvert_exporter": "python",
   "pygments_lexer": "ipython3",
   "version": "3.7.5"
  }
 },
 "nbformat": 4,
 "nbformat_minor": 2
}
